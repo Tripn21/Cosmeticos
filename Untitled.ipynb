{
 "cells": [
  {
   "cell_type": "code",
   "execution_count": 4,
   "id": "c82e6f7b-a7e1-48ed-82ac-8414763c3c4d",
   "metadata": {},
   "outputs": [
    {
     "ename": "ModuleNotFoundError",
     "evalue": "No module named 'pytesseract'",
     "output_type": "error",
     "traceback": [
      "\u001b[1;31m---------------------------------------------------------------------------\u001b[0m",
      "\u001b[1;31mModuleNotFoundError\u001b[0m                       Traceback (most recent call last)",
      "Cell \u001b[1;32mIn[4], line 1\u001b[0m\n\u001b[1;32m----> 1\u001b[0m \u001b[38;5;28;01mimport\u001b[39;00m \u001b[38;5;21;01mpytesseract\u001b[39;00m\n\u001b[0;32m      2\u001b[0m \u001b[38;5;28;01mfrom\u001b[39;00m \u001b[38;5;21;01mpdf2image\u001b[39;00m \u001b[38;5;28;01mimport\u001b[39;00m convert_from_path\n\u001b[0;32m      4\u001b[0m \u001b[38;5;66;03m# Convertir el PDF a imágenes\u001b[39;00m\n",
      "\u001b[1;31mModuleNotFoundError\u001b[0m: No module named 'pytesseract'"
     ]
    }
   ],
   "source": [
    "import pytesseract\n",
    "from pdf2image import convert_from_path\n",
    "\n",
    "# Convertir el PDF a imágenes\n",
    "paginas = convert_from_path(\"julio25.pdf\", 300)\n",
    "\n",
    "# Extraer texto de la primera página (como ejemplo)\n",
    "texto = pytesseract.image_to_string(paginas[0], lang='spa')\n",
    "print(texto)"
   ]
  },
  {
   "cell_type": "code",
   "execution_count": 5,
   "id": "097d40e3-6d37-4f5c-a0ba-e9d755f8a80b",
   "metadata": {},
   "outputs": [
    {
     "name": "stdout",
     "output_type": "stream",
     "text": [
      "Collecting pytesseract\n",
      "  Downloading pytesseract-0.3.13-py3-none-any.whl.metadata (11 kB)\n",
      "Requirement already satisfied: pandas in c:\\users\\marvin nicaragua\\anaconda3\\lib\\site-packages (2.1.4)\n",
      "Requirement already satisfied: packaging>=21.3 in c:\\users\\marvin nicaragua\\anaconda3\\lib\\site-packages (from pytesseract) (23.1)\n",
      "Requirement already satisfied: Pillow>=8.0.0 in c:\\users\\marvin nicaragua\\anaconda3\\lib\\site-packages (from pytesseract) (10.2.0)\n",
      "Requirement already satisfied: numpy<2,>=1.23.2 in c:\\users\\marvin nicaragua\\anaconda3\\lib\\site-packages (from pandas) (1.26.4)\n",
      "Requirement already satisfied: python-dateutil>=2.8.2 in c:\\users\\marvin nicaragua\\anaconda3\\lib\\site-packages (from pandas) (2.8.2)\n",
      "Requirement already satisfied: pytz>=2020.1 in c:\\users\\marvin nicaragua\\anaconda3\\lib\\site-packages (from pandas) (2023.3.post1)\n",
      "Requirement already satisfied: tzdata>=2022.1 in c:\\users\\marvin nicaragua\\anaconda3\\lib\\site-packages (from pandas) (2023.3)\n",
      "Requirement already satisfied: six>=1.5 in c:\\users\\marvin nicaragua\\anaconda3\\lib\\site-packages (from python-dateutil>=2.8.2->pandas) (1.16.0)\n",
      "Downloading pytesseract-0.3.13-py3-none-any.whl (14 kB)\n",
      "Installing collected packages: pytesseract\n",
      "Successfully installed pytesseract-0.3.13\n",
      "Note: you may need to restart the kernel to use updated packages.\n"
     ]
    }
   ],
   "source": [
    "pip install pytesseract pandas"
   ]
  },
  {
   "cell_type": "code",
   "execution_count": 6,
   "id": "0b963c11-a4f0-4aaf-ac01-8313c958c0f8",
   "metadata": {},
   "outputs": [
    {
     "name": "stdout",
     "output_type": "stream",
     "text": [
      "Renombrado completado.\n"
     ]
    }
   ],
   "source": [
    "import os\n",
    "\n",
    "# Ruta a la carpeta\n",
    "folder = r'C:\\Users\\Marvin Nicaragua\\Documents\\Catalogo\\images\\julio25'\n",
    "\n",
    "# Listar archivos en orden (alfabético, como los ve el explorador)\n",
    "files = sorted(os.listdir(folder))\n",
    "\n",
    "# Renombrar cada archivo\n",
    "for idx, filename in enumerate(files, start=1):\n",
    "    file_path = os.path.join(folder, filename)\n",
    "    if os.path.isfile(file_path):\n",
    "        # Obtener extensión\n",
    "        _, ext = os.path.splitext(filename)\n",
    "        # Nuevo nombre\n",
    "        new_name = f\"imagen{idx}{ext}\"\n",
    "        new_path = os.path.join(folder, new_name)\n",
    "        os.rename(file_path, new_path)\n",
    "\n",
    "print(\"Renombrado completado.\")"
   ]
  },
  {
   "cell_type": "code",
   "execution_count": 7,
   "id": "b27caaa2-67ba-4e52-ae0d-91afaa080e40",
   "metadata": {},
   "outputs": [
    {
     "name": "stdout",
     "output_type": "stream",
     "text": [
      "Renombrado completado.\n"
     ]
    }
   ],
   "source": [
    "import os\n",
    "\n",
    "# Ruta a la carpeta\n",
    "folder = r'C:\\Users\\Marvin Nicaragua\\Downloads\\2025-07CuerpoNI'\n",
    "\n",
    "# Listar archivos en orden (alfabético, como los ve el explorador)\n",
    "files = sorted(os.listdir(folder))\n",
    "\n",
    "# Renombrar cada archivo\n",
    "for idx, filename in enumerate(files, start=1):\n",
    "    file_path = os.path.join(folder, filename)\n",
    "    if os.path.isfile(file_path):\n",
    "        # Obtener extensión\n",
    "        _, ext = os.path.splitext(filename)\n",
    "        # Nuevo nombre\n",
    "        new_name = f\"imagen{idx}{ext}\"\n",
    "        new_path = os.path.join(folder, new_name)\n",
    "        os.rename(file_path, new_path)\n",
    "\n",
    "print(\"Renombrado completado.\")"
   ]
  },
  {
   "cell_type": "code",
   "execution_count": null,
   "id": "1899997d-8fe7-4d4f-a318-96a6ab06580d",
   "metadata": {},
   "outputs": [],
   "source": [
    "C:\\Users\\Marvin Nicaragua\\Downloads\\2025-07CutisNI (1)"
   ]
  },
  {
   "cell_type": "code",
   "execution_count": null,
   "id": "f6769af5-36ef-4748-83ec-527c1776a0dd",
   "metadata": {},
   "outputs": [],
   "source": [
    "C:\\Users\\Marvin Nicaragua\\Downloads\\2025-07CuerpoNI"
   ]
  },
  {
   "cell_type": "code",
   "execution_count": 8,
   "id": "eceac636-692b-43af-b7ee-3ed419ae4436",
   "metadata": {},
   "outputs": [
    {
     "name": "stdout",
     "output_type": "stream",
     "text": [
      "Renombrado completado.\n"
     ]
    }
   ],
   "source": [
    "import os\n",
    "\n",
    "# Ruta a la carpeta\n",
    "folder = r'C:\\Users\\Marvin Nicaragua\\Downloads\\2025-07CutisNI (1)'\n",
    "\n",
    "# Listar archivos en orden (alfabético, como los ve el explorador)\n",
    "files = sorted(os.listdir(folder))\n",
    "\n",
    "# Renombrar cada archivo\n",
    "for idx, filename in enumerate(files, start=1):\n",
    "    file_path = os.path.join(folder, filename)\n",
    "    if os.path.isfile(file_path):\n",
    "        # Obtener extensión\n",
    "        _, ext = os.path.splitext(filename)\n",
    "        # Nuevo nombre\n",
    "        new_name = f\"imagen{idx}{ext}\"\n",
    "        new_path = os.path.join(folder, new_name)\n",
    "        os.rename(file_path, new_path)\n",
    "\n",
    "print(\"Renombrado completado.\")"
   ]
  },
  {
   "cell_type": "code",
   "execution_count": null,
   "id": "a8b98e19-4190-48f6-88de-99c60c1bacf6",
   "metadata": {},
   "outputs": [],
   "source": [
    "C:\\Users\\Marvin Nicaragua\\Downloads\\2025-07FraganciasNI"
   ]
  },
  {
   "cell_type": "code",
   "execution_count": 11,
   "id": "651eed61-6a5a-4851-826e-f2bed7d2d94f",
   "metadata": {},
   "outputs": [
    {
     "name": "stdout",
     "output_type": "stream",
     "text": [
      "Renombrado completado.\n"
     ]
    }
   ],
   "source": [
    "import os\n",
    "\n",
    "# Ruta a la carpeta\n",
    "folder = r'C:\\Users\\Marvin Nicaragua\\Downloads\\2025-07FraganciasNI'\n",
    "\n",
    "# Listar archivos en orden (alfabético, como los ve el explorador)\n",
    "files = sorted(os.listdir(folder))\n",
    "\n",
    "# Renombrar cada archivo\n",
    "for idx, filename in enumerate(files, start=1):\n",
    "    file_path = os.path.join(folder, filename)\n",
    "    if os.path.isfile(file_path):\n",
    "        # Obtener extensión\n",
    "        _, ext = os.path.splitext(filename)\n",
    "        # Nuevo nombre\n",
    "        new_name = f\"imagen{idx}{ext}\"\n",
    "        new_path = os.path.join(folder, new_name)\n",
    "        os.rename(file_path, new_path)\n",
    "\n",
    "print(\"Renombrado completado.\")"
   ]
  }
 ],
 "metadata": {
  "kernelspec": {
   "display_name": "Python 3 (ipykernel)",
   "language": "python",
   "name": "python3"
  },
  "language_info": {
   "codemirror_mode": {
    "name": "ipython",
    "version": 3
   },
   "file_extension": ".py",
   "mimetype": "text/x-python",
   "name": "python",
   "nbconvert_exporter": "python",
   "pygments_lexer": "ipython3",
   "version": "3.11.7"
  }
 },
 "nbformat": 4,
 "nbformat_minor": 5
}
